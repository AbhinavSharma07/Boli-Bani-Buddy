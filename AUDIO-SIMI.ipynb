{
 "cells": [
  {
   "cell_type": "code",
   "execution_count": 8,
   "id": "c84e71dd",
   "metadata": {},
   "outputs": [
    {
     "name": "stdout",
     "output_type": "stream",
     "text": [
      "Record the reference voice:\n",
      "Recording... (Duration: 5 seconds)\n",
      "Transcription: compare the two voices\n",
      "Record the new voice:\n",
      "Recording... (Duration: 5 seconds)\n",
      "Transcription: compare the two voices\n",
      "The same line was read. Proceeding with voice comparison...\n"
     ]
    },
    {
     "ename": "ValueError",
     "evalue": "too many values to unpack (expected 3)",
     "output_type": "error",
     "traceback": [
      "\u001b[1;31m---------------------------------------------------------------------------\u001b[0m",
      "\u001b[1;31mValueError\u001b[0m                                Traceback (most recent call last)",
      "Cell \u001b[1;32mIn[8], line 65\u001b[0m\n\u001b[0;32m     62\u001b[0m     test_mfcc \u001b[38;5;241m=\u001b[39m extract_features(test_file)\n\u001b[0;32m     64\u001b[0m     \u001b[38;5;66;03m# Step 7: Compare the two voices\u001b[39;00m\n\u001b[1;32m---> 65\u001b[0m     similarity_score \u001b[38;5;241m=\u001b[39m compare_voices(reference_mfcc, test_mfcc)\n\u001b[0;32m     66\u001b[0m     \u001b[38;5;28mprint\u001b[39m(\u001b[38;5;124mf\u001b[39m\u001b[38;5;124m\"\u001b[39m\u001b[38;5;124mSimilarity score: \u001b[39m\u001b[38;5;132;01m{\u001b[39;00msimilarity_score\u001b[38;5;132;01m}\u001b[39;00m\u001b[38;5;124m\"\u001b[39m)\n\u001b[0;32m     67\u001b[0m \u001b[38;5;28;01melse\u001b[39;00m:\n",
      "Cell \u001b[1;32mIn[8], line 36\u001b[0m, in \u001b[0;36mcompare_voices\u001b[1;34m(reference_mfcc, test_mfcc)\u001b[0m\n\u001b[0;32m     35\u001b[0m \u001b[38;5;28;01mdef\u001b[39;00m \u001b[38;5;21mcompare_voices\u001b[39m(reference_mfcc, test_mfcc):\n\u001b[1;32m---> 36\u001b[0m     distance, cost, accumulated_cost_matrix \u001b[38;5;241m=\u001b[39m accelerated_dtw(reference_mfcc\u001b[38;5;241m.\u001b[39mT, test_mfcc\u001b[38;5;241m.\u001b[39mT, dist\u001b[38;5;241m=\u001b[39m\u001b[38;5;124m'\u001b[39m\u001b[38;5;124meuclidean\u001b[39m\u001b[38;5;124m'\u001b[39m)\n\u001b[0;32m     37\u001b[0m     \u001b[38;5;28mprint\u001b[39m(\u001b[38;5;124mf\u001b[39m\u001b[38;5;124m\"\u001b[39m\u001b[38;5;124mSimilarity score (lower is better): \u001b[39m\u001b[38;5;132;01m{\u001b[39;00mdistance\u001b[38;5;132;01m}\u001b[39;00m\u001b[38;5;124m\"\u001b[39m)\n\u001b[0;32m     38\u001b[0m     \u001b[38;5;28;01mreturn\u001b[39;00m distance\n",
      "\u001b[1;31mValueError\u001b[0m: too many values to unpack (expected 3)"
     ]
    }
   ],
   "source": [
    "import speech_recognition as sr\n",
    "import librosa\n",
    "import numpy as np\n",
    "from dtw import accelerated_dtw\n",
    "\n",
    "def record_audio(filename=\"output.wav\", duration=5):\n",
    "    recognizer = sr.Recognizer()\n",
    "    with sr.Microphone() as source:\n",
    "        print(f\"Recording... (Duration: {duration} seconds)\")\n",
    "        audio = recognizer.listen(source, timeout=duration)\n",
    "        with open(filename, \"wb\") as f:\n",
    "            f.write(audio.get_wav_data())\n",
    "    return filename\n",
    "\n",
    "def transcribe_audio(filename):\n",
    "    recognizer = sr.Recognizer()\n",
    "    with sr.AudioFile(filename) as source:\n",
    "        audio = recognizer.record(source)\n",
    "        try:\n",
    "            text = recognizer.recognize_google(audio)\n",
    "            print(f\"Transcription: {text}\")\n",
    "            return text\n",
    "        except sr.UnknownValueError:\n",
    "            print(\"Google Speech Recognition could not understand the audio\")\n",
    "            return None\n",
    "        except sr.RequestError:\n",
    "            print(\"Could not request results from Google Speech Recognition service\")\n",
    "            return None\n",
    "\n",
    "def extract_features(filename):\n",
    "    y, sr = librosa.load(filename)\n",
    "    mfcc = librosa.feature.mfcc(y=y, sr=sr, n_mfcc=13)\n",
    "    return mfcc\n",
    "\n",
    "def compare_voices(reference_mfcc, test_mfcc):\n",
    "    distance, cost, accumulated_cost_matrix = accelerated_dtw(reference_mfcc.T, test_mfcc.T, dist='euclidean')\n",
    "    print(f\"Similarity score (lower is better): {distance}\")\n",
    "    return distance\n",
    "\n",
    "# Step 1: Record or load the reference voice\n",
    "print(\"Record the reference voice:\")\n",
    "reference_file = record_audio(\"reference.wav\")\n",
    "\n",
    "# Step 2: Transcribe to ensure it's correct\n",
    "reference_text = transcribe_audio(reference_file)\n",
    "\n",
    "if reference_text:\n",
    "    # Step 3: Record or load the new voice\n",
    "    print(\"Record the new voice:\")\n",
    "    test_file = record_audio(\"test.wav\")\n",
    "\n",
    "    # Step 4: Transcribe the new voice\n",
    "    test_text = transcribe_audio(test_file)\n",
    "\n",
    "    if test_text:\n",
    "        # Step 5: Compare transcriptions to ensure the same line is read\n",
    "        if reference_text.lower() == test_text.lower():\n",
    "            print(\"The same line was read. Proceeding with voice comparison...\")\n",
    "            \n",
    "            # Step 6: Extract features\n",
    "            reference_mfcc = extract_features(reference_file)\n",
    "            test_mfcc = extract_features(test_file)\n",
    "            \n",
    "            # Step 7: Compare the two voices\n",
    "            similarity_score = compare_voices(reference_mfcc, test_mfcc)\n",
    "            print(f\"Similarity score: {similarity_score}\")\n",
    "        else:\n",
    "            print(\"Different lines were read. Please read the same line.\")\n",
    "    else:\n",
    "        print(\"Could not transcribe the new voice.\")\n",
    "else:\n",
    "    print(\"Could not transcribe the reference voice.\")\n"
   ]
  },
  {
   "cell_type": "code",
   "execution_count": null,
   "id": "cb6c735f",
   "metadata": {},
   "outputs": [],
   "source": []
  }
 ],
 "metadata": {
  "kernelspec": {
   "display_name": "Python 3 (ipykernel)",
   "language": "python",
   "name": "python3"
  },
  "language_info": {
   "codemirror_mode": {
    "name": "ipython",
    "version": 3
   },
   "file_extension": ".py",
   "mimetype": "text/x-python",
   "name": "python",
   "nbconvert_exporter": "python",
   "pygments_lexer": "ipython3",
   "version": "3.11.3"
  }
 },
 "nbformat": 4,
 "nbformat_minor": 5
}
